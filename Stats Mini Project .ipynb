{
 "cells": [
  {
   "cell_type": "code",
   "execution_count": 4,
   "id": "41b4b619",
   "metadata": {},
   "outputs": [],
   "source": [
    "import numpy as np\n",
    "import pandas as pd\n",
    "import matplotlib.pyplot as plt\n",
    "import seaborn as sns\n",
    "pd.set_option(\"display.max_rows\",100)\n",
    "pd.set_option(\"display.max_columns\",100)\n",
    "import scipy.stats as stats\n",
    "import random\n",
    "from statsmodels.stats.multicomp import pairwise_tukeyhsd\n",
    "from statsmodels.formula.api import ols\n",
    "import statsmodels.api as sm"
   ]
  },
  {
   "cell_type": "markdown",
   "id": "b95b302d",
   "metadata": {},
   "source": [
    "## 1. Perform the following statistical analysis on the fifa world cup dataset. The dataset consists of player information, which includes height; weight overall rating, potential etc. Data Cleaning and basic EDA process needs to be performed. "
   ]
  },
  {
   "cell_type": "markdown",
   "id": "ba3d687c",
   "metadata": {},
   "source": [
    "## Note: \n",
    "* Perform all the Statistical analysis with 5% (Significance level).\n",
    "* Assume all the features are normally distributed and have equal variance.\n"
   ]
  },
  {
   "cell_type": "code",
   "execution_count": 3,
   "id": "a3a62d82",
   "metadata": {},
   "outputs": [
    {
     "data": {
      "text/html": [
       "<div>\n",
       "<style scoped>\n",
       "    .dataframe tbody tr th:only-of-type {\n",
       "        vertical-align: middle;\n",
       "    }\n",
       "\n",
       "    .dataframe tbody tr th {\n",
       "        vertical-align: top;\n",
       "    }\n",
       "\n",
       "    .dataframe thead th {\n",
       "        text-align: right;\n",
       "    }\n",
       "</style>\n",
       "<table border=\"1\" class=\"dataframe\">\n",
       "  <thead>\n",
       "    <tr style=\"text-align: right;\">\n",
       "      <th></th>\n",
       "      <th>Name</th>\n",
       "      <th>Age</th>\n",
       "      <th>Nationality</th>\n",
       "      <th>Overall_rating</th>\n",
       "      <th>Potential</th>\n",
       "      <th>Club</th>\n",
       "      <th>Preferred Foot</th>\n",
       "      <th>International Reputation</th>\n",
       "      <th>Weak Foot</th>\n",
       "      <th>Skill Moves</th>\n",
       "      <th>Work Rate</th>\n",
       "      <th>Position</th>\n",
       "      <th>Jersey Number</th>\n",
       "      <th>Height</th>\n",
       "      <th>Weight</th>\n",
       "    </tr>\n",
       "  </thead>\n",
       "  <tbody>\n",
       "    <tr>\n",
       "      <th>0</th>\n",
       "      <td>L. Messi</td>\n",
       "      <td>31</td>\n",
       "      <td>Argentina</td>\n",
       "      <td>94</td>\n",
       "      <td>94</td>\n",
       "      <td>FC Barcelona</td>\n",
       "      <td>Left</td>\n",
       "      <td>5</td>\n",
       "      <td>4</td>\n",
       "      <td>4</td>\n",
       "      <td>Medium/ Medium</td>\n",
       "      <td>RF</td>\n",
       "      <td>10</td>\n",
       "      <td>5.583333</td>\n",
       "      <td>159</td>\n",
       "    </tr>\n",
       "    <tr>\n",
       "      <th>1</th>\n",
       "      <td>Cristiano Ronaldo</td>\n",
       "      <td>33</td>\n",
       "      <td>Portugal</td>\n",
       "      <td>94</td>\n",
       "      <td>94</td>\n",
       "      <td>Juventus</td>\n",
       "      <td>Right</td>\n",
       "      <td>5</td>\n",
       "      <td>4</td>\n",
       "      <td>5</td>\n",
       "      <td>High/ Low</td>\n",
       "      <td>ST</td>\n",
       "      <td>7</td>\n",
       "      <td>6.166667</td>\n",
       "      <td>183</td>\n",
       "    </tr>\n",
       "    <tr>\n",
       "      <th>2</th>\n",
       "      <td>Neymar Jr</td>\n",
       "      <td>26</td>\n",
       "      <td>Brazil</td>\n",
       "      <td>92</td>\n",
       "      <td>93</td>\n",
       "      <td>Paris Saint-Germain</td>\n",
       "      <td>Right</td>\n",
       "      <td>5</td>\n",
       "      <td>5</td>\n",
       "      <td>5</td>\n",
       "      <td>High/ Medium</td>\n",
       "      <td>LW</td>\n",
       "      <td>10</td>\n",
       "      <td>5.750000</td>\n",
       "      <td>150</td>\n",
       "    </tr>\n",
       "    <tr>\n",
       "      <th>3</th>\n",
       "      <td>De Gea</td>\n",
       "      <td>27</td>\n",
       "      <td>Spain</td>\n",
       "      <td>91</td>\n",
       "      <td>93</td>\n",
       "      <td>Manchester United</td>\n",
       "      <td>Right</td>\n",
       "      <td>4</td>\n",
       "      <td>3</td>\n",
       "      <td>1</td>\n",
       "      <td>Medium/ Medium</td>\n",
       "      <td>GK</td>\n",
       "      <td>1</td>\n",
       "      <td>6.333333</td>\n",
       "      <td>168</td>\n",
       "    </tr>\n",
       "    <tr>\n",
       "      <th>4</th>\n",
       "      <td>K. De Bruyne</td>\n",
       "      <td>27</td>\n",
       "      <td>Belgium</td>\n",
       "      <td>91</td>\n",
       "      <td>92</td>\n",
       "      <td>Manchester City</td>\n",
       "      <td>Right</td>\n",
       "      <td>4</td>\n",
       "      <td>5</td>\n",
       "      <td>4</td>\n",
       "      <td>High/ High</td>\n",
       "      <td>RCM</td>\n",
       "      <td>7</td>\n",
       "      <td>5.083333</td>\n",
       "      <td>154</td>\n",
       "    </tr>\n",
       "  </tbody>\n",
       "</table>\n",
       "</div>"
      ],
      "text/plain": [
       "                Name  Age Nationality  Overall_rating  Potential  \\\n",
       "0           L. Messi   31   Argentina              94         94   \n",
       "1  Cristiano Ronaldo   33    Portugal              94         94   \n",
       "2          Neymar Jr   26      Brazil              92         93   \n",
       "3             De Gea   27       Spain              91         93   \n",
       "4       K. De Bruyne   27     Belgium              91         92   \n",
       "\n",
       "                  Club Preferred Foot  International Reputation  Weak Foot  \\\n",
       "0         FC Barcelona           Left                         5          4   \n",
       "1             Juventus          Right                         5          4   \n",
       "2  Paris Saint-Germain          Right                         5          5   \n",
       "3    Manchester United          Right                         4          3   \n",
       "4      Manchester City          Right                         4          5   \n",
       "\n",
       "   Skill Moves       Work Rate Position  Jersey Number    Height  Weight  \n",
       "0            4  Medium/ Medium       RF             10  5.583333     159  \n",
       "1            5       High/ Low       ST              7  6.166667     183  \n",
       "2            5    High/ Medium       LW             10  5.750000     150  \n",
       "3            1  Medium/ Medium       GK              1  6.333333     168  \n",
       "4            4      High/ High      RCM              7  5.083333     154  "
      ]
     },
     "execution_count": 3,
     "metadata": {},
     "output_type": "execute_result"
    }
   ],
   "source": [
    "data= pd.read_csv('fifa_stats.csv')\n",
    "data.head()"
   ]
  },
  {
   "cell_type": "code",
   "execution_count": 23,
   "id": "f55de267",
   "metadata": {},
   "outputs": [
    {
     "name": "stdout",
     "output_type": "stream",
     "text": [
      "<class 'pandas.core.frame.DataFrame'>\n",
      "RangeIndex: 2000 entries, 0 to 1999\n",
      "Data columns (total 15 columns):\n",
      " #   Column                    Non-Null Count  Dtype  \n",
      "---  ------                    --------------  -----  \n",
      " 0   Name                      2000 non-null   object \n",
      " 1   Age                       2000 non-null   int64  \n",
      " 2   Nationality               2000 non-null   object \n",
      " 3   Overall_rating            2000 non-null   int64  \n",
      " 4   Potential                 2000 non-null   int64  \n",
      " 5   Club                      1981 non-null   object \n",
      " 6   Preferred Foot            2000 non-null   object \n",
      " 7   International Reputation  2000 non-null   int64  \n",
      " 8   Weak Foot                 2000 non-null   int64  \n",
      " 9   Skill Moves               2000 non-null   int64  \n",
      " 10  Work Rate                 2000 non-null   object \n",
      " 11  Position                  2000 non-null   object \n",
      " 12  Jersey Number             2000 non-null   int64  \n",
      " 13  Height                    2000 non-null   float64\n",
      " 14  Weight                    2000 non-null   int64  \n",
      "dtypes: float64(1), int64(8), object(6)\n",
      "memory usage: 234.5+ KB\n"
     ]
    }
   ],
   "source": [
    "data.info()"
   ]
  },
  {
   "cell_type": "markdown",
   "id": "679a64c7",
   "metadata": {},
   "source": [
    "### a) Assuming age as population, perform the central limit theorem with sample size of 200. Find the standard error and the mean of sampling distribution. Compare the results with population mean and standard deviation. Explain in non-technical terms why the estimated standard error of a sample mean tends to decrease with an increase in sample size"
   ]
  },
  {
   "cell_type": "code",
   "execution_count": 10,
   "id": "03ab09f2",
   "metadata": {},
   "outputs": [],
   "source": [
    "samp= random.sample(sorted(data['Age']), k=200)"
   ]
  },
  {
   "cell_type": "code",
   "execution_count": 17,
   "id": "2d0eced9",
   "metadata": {},
   "outputs": [
    {
     "name": "stdout",
     "output_type": "stream",
     "text": [
      "Standard Error: 0.2772296546313817\n",
      "Sample Mean: 26.84\n"
     ]
    }
   ],
   "source": [
    "n=len(samp)\n",
    "xbar= np.mean(samp)\n",
    "sampsd= np.std(samp, ddof=1)\n",
    "se= sampsd/np.sqrt(n)\n",
    "print('Standard Error:', se)\n",
    "print('Sample Mean:', xbar)"
   ]
  },
  {
   "cell_type": "code",
   "execution_count": 18,
   "id": "bf0960ce",
   "metadata": {},
   "outputs": [
    {
     "name": "stdout",
     "output_type": "stream",
     "text": [
      "Population Mean: 27.2315\n",
      "Population SD: 3.8590612753574423\n"
     ]
    }
   ],
   "source": [
    "mew= data['Age'].mean()\n",
    "popsd= data['Age'].std()\n",
    "print('Population Mean:', mew)\n",
    "print('Population SD:', popsd)"
   ]
  },
  {
   "cell_type": "markdown",
   "id": "5d8f25f7",
   "metadata": {},
   "source": [
    "The sample mean and population mean are close to each other because the sample size that we have chosen is sufficiently large enough and that's why the standard error is close to zero. "
   ]
  },
  {
   "cell_type": "markdown",
   "id": "68218231",
   "metadata": {},
   "source": [
    "Standard error decreases with increase in sample size becoz the sample is going more and more close to the population and at a certain point it will resemble all the characteristics of a population."
   ]
  },
  {
   "cell_type": "markdown",
   "id": "0c8907da",
   "metadata": {},
   "source": [
    "### b) Is there any evidence that the players overall rating is greater than 80?"
   ]
  },
  {
   "cell_type": "markdown",
   "id": "814012d7",
   "metadata": {},
   "source": [
    "The null and alternate hypothesis are:\n",
    "* Ho: The players overall rating <=80.\n",
    "* Ha: The players overall rating >80. (right tale test)\n",
    "\n",
    "we will perform one sample ttest."
   ]
  },
  {
   "cell_type": "code",
   "execution_count": 53,
   "id": "dd5588ad",
   "metadata": {},
   "outputs": [
    {
     "data": {
      "text/plain": [
       "Ttest_1sampResult(statistic=-24.538460498672062, pvalue=1.0)"
      ]
     },
     "execution_count": 53,
     "metadata": {},
     "output_type": "execute_result"
    }
   ],
   "source": [
    "stats.ttest_1samp(data['Overall_rating'], popmean=80, alternative= 'greater')"
   ]
  },
  {
   "cell_type": "markdown",
   "id": "2a7df675",
   "metadata": {},
   "source": [
    "Since the pvalue is greater than 95, we reject the null hypothesis and conclude that the players overall rating is greater than 80."
   ]
  },
  {
   "cell_type": "markdown",
   "id": "8779f3db",
   "metadata": {},
   "source": [
    "### c)\tPerform the statistical test to identify whether preferred foot has any impact on potential. Also, perform the graphical analysis."
   ]
  },
  {
   "cell_type": "markdown",
   "id": "cf022840",
   "metadata": {},
   "source": [
    "The null and alternate hypothesis are:\n",
    "\n",
    "* Ho: The preferred foot don't have an impact on potential.\n",
    "* Ha: The preferred foot has an impact on potential."
   ]
  },
  {
   "cell_type": "code",
   "execution_count": 42,
   "id": "db88affd",
   "metadata": {},
   "outputs": [
    {
     "data": {
      "text/plain": [
       "array(['Left', 'Right'], dtype=object)"
      ]
     },
     "execution_count": 42,
     "metadata": {},
     "output_type": "execute_result"
    }
   ],
   "source": [
    "data['Preferred Foot'].unique()"
   ]
  },
  {
   "cell_type": "code",
   "execution_count": 44,
   "id": "35b5bc41",
   "metadata": {},
   "outputs": [],
   "source": [
    "samp1= data[data['Preferred Foot']=='Left']['Potential']\n",
    "samp2= data[data['Preferred Foot']=='Right']['Potential']"
   ]
  },
  {
   "cell_type": "code",
   "execution_count": 46,
   "id": "76e2bcd6",
   "metadata": {},
   "outputs": [
    {
     "data": {
      "text/plain": [
       "F_onewayResult(statistic=2.3648403497065615, pvalue=0.12425494914458383)"
      ]
     },
     "execution_count": 46,
     "metadata": {},
     "output_type": "execute_result"
    }
   ],
   "source": [
    "stats.f_oneway(samp1, samp2)"
   ]
  },
  {
   "cell_type": "markdown",
   "id": "c6b5dbe7",
   "metadata": {},
   "source": [
    "since pvalue is greater than alpha(0.05), we fail to reject the Ho, and conclude that the preferred foot don't have an impact on potential."
   ]
  },
  {
   "cell_type": "code",
   "execution_count": 55,
   "id": "1de8ef1b",
   "metadata": {},
   "outputs": [
    {
     "data": {
      "image/png": "[encoded data removed]",
      "text/plain": [
       "<Figure size 640x480 with 1 Axes>"
      ]
     },
     "metadata": {},
     "output_type": "display_data"
    }
   ],
   "source": [
    "# Graphical Analysis\n",
    "sns.boxplot(x= data['Preferred Foot'], y= data['Potential'])\n",
    "plt.show()"
   ]
  },
  {
   "cell_type": "markdown",
   "id": "5c1f74e8",
   "metadata": {},
   "source": [
    "Here also, it is evident that left and right foot both have same variation with potential that is preferrence in foot does not affect the potential of a player."
   ]
  },
  {
   "cell_type": "markdown",
   "id": "da096bc4",
   "metadata": {},
   "source": [
    "### d)\tPerform the statistical test to identify the relation between the overall rating and potential. Assume both are continuous data points."
   ]
  },
  {
   "cell_type": "markdown",
   "id": "c1df010e",
   "metadata": {},
   "source": [
    "The null and alternate hypothesis are:\n",
    "\n",
    "* Ho: There is no significant linear relationship between Overall rating and potential.\n",
    "* Ha: There is significant linear relationship between overall rating and potential\n",
    "\n",
    "Since we have to find the correlation between two continuous variable, we will perform pearson's Correlation Coefficient Test."
   ]
  },
  {
   "cell_type": "code",
   "execution_count": 60,
   "id": "b8cb41bb",
   "metadata": {},
   "outputs": [
    {
     "data": {
      "text/plain": [
       "PearsonRResult(statistic=0.7326945574179985, pvalue=0.0)"
      ]
     },
     "execution_count": 60,
     "metadata": {},
     "output_type": "execute_result"
    }
   ],
   "source": [
    "stats.pearsonr(data['Overall_rating'], data['Potential'], alternative='two-sided')"
   ]
  },
  {
   "cell_type": "markdown",
   "id": "04feb3c6",
   "metadata": {},
   "source": [
    "since the pvalue is less than alpha, we reject the null hypothesis and conclude that there is a relation and from the test statistic we can say that there is a positive correlation between overall rating and potential."
   ]
  },
  {
   "cell_type": "markdown",
   "id": "278e0f23",
   "metadata": {},
   "source": [
    "### e)\tDoes skill move have any effect in overall rating? Perform the graphical analysis and the statistical analysis."
   ]
  },
  {
   "cell_type": "markdown",
   "id": "92d86e9e",
   "metadata": {},
   "source": [
    "The null and alternate hypothesis are:\n",
    "\n",
    "* Ho: The skill move don't have an impact on overall rating.\n",
    "* Ha: The skill move have an impact on overall rating.\n",
    "\n",
    "Since we have to check effect of a category on a number, we will perform one way anova test."
   ]
  },
  {
   "cell_type": "code",
   "execution_count": 62,
   "id": "b3b92f87",
   "metadata": {},
   "outputs": [
    {
     "data": {
      "text/plain": [
       "array([4, 5, 1, 3, 2], dtype=int64)"
      ]
     },
     "execution_count": 62,
     "metadata": {},
     "output_type": "execute_result"
    }
   ],
   "source": [
    "data['Skill Moves'].unique()"
   ]
  },
  {
   "cell_type": "code",
   "execution_count": 77,
   "id": "16bc699f",
   "metadata": {},
   "outputs": [],
   "source": [
    "val= {1:'Low Skills', 2: 'Some Skills', 3:'Good Skills', 4: 'Very Good Skills', 5: 'Excellent Skills'}"
   ]
  },
  {
   "cell_type": "code",
   "execution_count": 78,
   "id": "ff73b596",
   "metadata": {},
   "outputs": [
    {
     "data": {
      "text/plain": [
       "0       Very Good Skills\n",
       "1       Excellent Skills\n",
       "2       Excellent Skills\n",
       "3             Low Skills\n",
       "4       Very Good Skills\n",
       "              ...       \n",
       "1995    Very Good Skills\n",
       "1996         Some Skills\n",
       "1997    Very Good Skills\n",
       "1998    Excellent Skills\n",
       "1999         Some Skills\n",
       "Name: Skill Moves, Length: 2000, dtype: object"
      ]
     },
     "execution_count": 78,
     "metadata": {},
     "output_type": "execute_result"
    }
   ],
   "source": [
    "data['Skill Moves']= data['Skill Moves'].map(val).astype('object')\n",
    "data['Skill Moves']"
   ]
  },
  {
   "cell_type": "code",
   "execution_count": 79,
   "id": "682078c0",
   "metadata": {},
   "outputs": [],
   "source": [
    "samp1= data[data['Skill Moves']=='Low Skills']['Overall_rating']\n",
    "samp2= data[data['Skill Moves']=='Some Skills']['Overall_rating']\n",
    "samp3= data[data['Skill Moves']=='Good Skills']['Overall_rating']\n",
    "samp4= data[data['Skill Moves']=='Very Good Skills']['Overall_rating']\n",
    "samp5= data[data['Skill Moves']=='Excellent Skills']['Overall_rating']"
   ]
  },
  {
   "cell_type": "code",
   "execution_count": 80,
   "id": "8dca14ee",
   "metadata": {},
   "outputs": [
    {
     "data": {
      "text/plain": [
       "F_onewayResult(statistic=31.085141826531746, pvalue=3.8236370526660514e-25)"
      ]
     },
     "execution_count": 80,
     "metadata": {},
     "output_type": "execute_result"
    }
   ],
   "source": [
    "stats.f_oneway(samp1, samp2, samp3, samp4, samp5)"
   ]
  },
  {
   "cell_type": "markdown",
   "id": "a8ad0a19",
   "metadata": {},
   "source": [
    "since the pvalue is less than alpha(0.05), we reject the null hypothesis and conclude that at least two category has an impact on overall rating and we will perform post hoc test to find how many have categories have an impact on overall rating."
   ]
  },
  {
   "cell_type": "code",
   "execution_count": 86,
   "id": "980f448e",
   "metadata": {},
   "outputs": [
    {
     "name": "stdout",
     "output_type": "stream",
     "text": [
      "          Multiple Comparison of Means - Tukey HSD, FWER=0.05           \n",
      "========================================================================\n",
      "     group1           group2      meandiff p-adj   lower   upper  reject\n",
      "------------------------------------------------------------------------\n",
      "Excellent Skills      Good Skills  -4.6813    0.0  -6.109 -3.2536   True\n",
      "Excellent Skills       Low Skills  -3.4937    0.0 -5.0227 -1.9646   True\n",
      "Excellent Skills      Some Skills   -4.208    0.0 -5.6705 -2.7455   True\n",
      "Excellent Skills Very Good Skills  -3.4036    0.0 -4.8479 -1.9592   True\n",
      "     Good Skills       Low Skills   1.1876    0.0  0.4926  1.8826   True\n",
      "     Good Skills      Some Skills   0.4733  0.109 -0.0595  1.0061  False\n",
      "     Good Skills Very Good Skills   1.2777    0.0  0.7968  1.7586   True\n",
      "      Low Skills      Some Skills  -0.7143 0.0797 -1.4782  0.0496  False\n",
      "      Low Skills Very Good Skills   0.0901 0.9972 -0.6385  0.8187  False\n",
      "     Some Skills Very Good Skills   0.8044 0.0013  0.2284  1.3804   True\n",
      "------------------------------------------------------------------------\n"
     ]
    }
   ],
   "source": [
    "print(pairwise_tukeyhsd( data['Overall_rating'], data['Skill Moves'], alpha=0.05))"
   ]
  },
  {
   "cell_type": "markdown",
   "id": "3059f58a",
   "metadata": {},
   "source": [
    "All combinations except good skills and some skills, low skills and some skills & low skills and very good skills don't have an impact on overall rating."
   ]
  },
  {
   "cell_type": "code",
   "execution_count": 89,
   "id": "ac700956",
   "metadata": {},
   "outputs": [
    {
     "data": {
      "image/png": "[encoded data removed]",
      "text/plain": [
       "<Figure size 640x480 with 1 Axes>"
      ]
     },
     "metadata": {},
     "output_type": "display_data"
    }
   ],
   "source": [
    "sns.boxplot(x=data['Skill Moves'], y=data['Overall_rating'])\n",
    "plt.show()"
   ]
  },
  {
   "cell_type": "markdown",
   "id": "b8c6d807",
   "metadata": {},
   "source": [
    "It is also evident from above graph that various skill moves has an impact on overall rating."
   ]
  },
  {
   "cell_type": "markdown",
   "id": "8b0c75de",
   "metadata": {},
   "source": [
    "## 2. Perform the following statistical analysis on the mobile network dataset given. The given data set contains information about the internet, calls, and messages of various network. Data Cleaning and basic EDA process needs to be performed. "
   ]
  },
  {
   "cell_type": "markdown",
   "id": "58b2abdd",
   "metadata": {},
   "source": [
    "## Note: \n",
    "* Perform all the Statistical analysis with 5% (Significance level).\n",
    "* Assume all the features are normally distributed and have equal variance."
   ]
  },
  {
   "cell_type": "code",
   "execution_count": 138,
   "id": "2a855226",
   "metadata": {},
   "outputs": [
    {
     "data": {
      "text/html": [
       "<div>\n",
       "<style scoped>\n",
       "    .dataframe tbody tr th:only-of-type {\n",
       "        vertical-align: middle;\n",
       "    }\n",
       "\n",
       "    .dataframe tbody tr th {\n",
       "        vertical-align: top;\n",
       "    }\n",
       "\n",
       "    .dataframe thead th {\n",
       "        text-align: right;\n",
       "    }\n",
       "</style>\n",
       "<table border=\"1\" class=\"dataframe\">\n",
       "  <thead>\n",
       "    <tr style=\"text-align: right;\">\n",
       "      <th></th>\n",
       "      <th>date</th>\n",
       "      <th>duration</th>\n",
       "      <th>item</th>\n",
       "      <th>month</th>\n",
       "      <th>network</th>\n",
       "      <th>network_type</th>\n",
       "    </tr>\n",
       "  </thead>\n",
       "  <tbody>\n",
       "    <tr>\n",
       "      <th>0</th>\n",
       "      <td>15-10-14 6:58</td>\n",
       "      <td>221.321120</td>\n",
       "      <td>data</td>\n",
       "      <td>2014-11</td>\n",
       "      <td>data</td>\n",
       "      <td>data</td>\n",
       "    </tr>\n",
       "    <tr>\n",
       "      <th>1</th>\n",
       "      <td>15-10-14 6:58</td>\n",
       "      <td>81.610599</td>\n",
       "      <td>call</td>\n",
       "      <td>2014-11</td>\n",
       "      <td>Vodafone</td>\n",
       "      <td>mobile</td>\n",
       "    </tr>\n",
       "    <tr>\n",
       "      <th>2</th>\n",
       "      <td>15-10-14 14:46</td>\n",
       "      <td>143.109111</td>\n",
       "      <td>call</td>\n",
       "      <td>2014-11</td>\n",
       "      <td>Meteor</td>\n",
       "      <td>mobile</td>\n",
       "    </tr>\n",
       "    <tr>\n",
       "      <th>3</th>\n",
       "      <td>15-10-14 14:48</td>\n",
       "      <td>111.888670</td>\n",
       "      <td>call</td>\n",
       "      <td>2014-11</td>\n",
       "      <td>Tesco</td>\n",
       "      <td>mobile</td>\n",
       "    </tr>\n",
       "    <tr>\n",
       "      <th>4</th>\n",
       "      <td>15-10-14 17:27</td>\n",
       "      <td>246.695171</td>\n",
       "      <td>call</td>\n",
       "      <td>2014-11</td>\n",
       "      <td>Tesco</td>\n",
       "      <td>mobile</td>\n",
       "    </tr>\n",
       "  </tbody>\n",
       "</table>\n",
       "</div>"
      ],
      "text/plain": [
       "             date    duration  item    month   network network_type\n",
       "0   15-10-14 6:58  221.321120  data  2014-11      data         data\n",
       "1   15-10-14 6:58   81.610599  call  2014-11  Vodafone       mobile\n",
       "2  15-10-14 14:46  143.109111  call  2014-11    Meteor       mobile\n",
       "3  15-10-14 14:48  111.888670  call  2014-11     Tesco       mobile\n",
       "4  15-10-14 17:27  246.695171  call  2014-11     Tesco       mobile"
      ]
     },
     "execution_count": 138,
     "metadata": {},
     "output_type": "execute_result"
    }
   ],
   "source": [
    "phone= pd.read_csv('phone.csv')\n",
    "phone.head()"
   ]
  },
  {
   "cell_type": "code",
   "execution_count": 90,
   "id": "b8ed870c",
   "metadata": {},
   "outputs": [
    {
     "name": "stdout",
     "output_type": "stream",
     "text": [
      "<class 'pandas.core.frame.DataFrame'>\n",
      "RangeIndex: 820 entries, 0 to 819\n",
      "Data columns (total 6 columns):\n",
      " #   Column        Non-Null Count  Dtype  \n",
      "---  ------        --------------  -----  \n",
      " 0   date          820 non-null    object \n",
      " 1   duration      820 non-null    float64\n",
      " 2   item          820 non-null    object \n",
      " 3   month         820 non-null    object \n",
      " 4   network       820 non-null    object \n",
      " 5   network_type  820 non-null    object \n",
      "dtypes: float64(1), object(5)\n",
      "memory usage: 38.6+ KB\n"
     ]
    }
   ],
   "source": [
    "phone.info()"
   ]
  },
  {
   "cell_type": "markdown",
   "id": "43f314a4",
   "metadata": {},
   "source": [
    "### a) With 95% & 99% Confidence Interval, find the range estimate of average duration calls made by the entire network. Which of the Intervals are wider? Interpret the results"
   ]
  },
  {
   "cell_type": "code",
   "execution_count": 95,
   "id": "4044bc73",
   "metadata": {},
   "outputs": [],
   "source": [
    "xbar= phone['duration'].mean()\n",
    "sampsd= phone['duration'].std(ddof=1)\n",
    "n= len(phone['duration'])\n",
    "\n",
    "se= sampsd/np.sqrt(n)"
   ]
  },
  {
   "cell_type": "code",
   "execution_count": 103,
   "id": "c8a3f2a2",
   "metadata": {},
   "outputs": [
    {
     "name": "stdout",
     "output_type": "stream",
     "text": [
      "Interval at 95% confidence: [141.18 147.43]\n"
     ]
    }
   ],
   "source": [
    "interval95 = stats.norm.interval(0.95, loc= xbar, scale= se)\n",
    "print('Interval at 95% confidence:', np.round(interval95,2))"
   ]
  },
  {
   "cell_type": "code",
   "execution_count": 105,
   "id": "5d871a8e",
   "metadata": {},
   "outputs": [
    {
     "name": "stdout",
     "output_type": "stream",
     "text": [
      "Interval at 99% confidence: [140.2  148.41]\n"
     ]
    }
   ],
   "source": [
    "interval99 = stats.norm.interval(0.99, loc= xbar, scale= se)\n",
    "print('Interval at 99% confidence:', np.round(interval99,2))"
   ]
  },
  {
   "cell_type": "markdown",
   "id": "b2445c92",
   "metadata": {},
   "source": [
    "The confidence interval at 99 is more wider since we are more confident that the average duration of the calls made by the entire network will fall in (140.20 - 148.41) range. "
   ]
  },
  {
   "cell_type": "markdown",
   "id": "96f8a98c",
   "metadata": {},
   "source": [
    "### b) Perform statistical analysis to check whether the networks are equally distributed in the dataset."
   ]
  },
  {
   "cell_type": "code",
   "execution_count": 129,
   "id": "61bdd3c6",
   "metadata": {},
   "outputs": [
    {
     "data": {
      "image/png": "[encoded data removed]",
      "text/plain": [
       "<Figure size 640x480 with 1 Axes>"
      ]
     },
     "metadata": {},
     "output_type": "display_data"
    }
   ],
   "source": [
    "sns.histplot(phone['network'], kde= True)\n",
    "plt.show()"
   ]
  },
  {
   "cell_type": "markdown",
   "id": "36215d9f",
   "metadata": {},
   "source": [
    "The networks are not equally distributed in the data, the highest count is of vodafone and three and the least is voicemail."
   ]
  },
  {
   "cell_type": "markdown",
   "id": "2bd2512a",
   "metadata": {},
   "source": [
    "### c) Plot the distribution of duration with respect to each network in the same graph and interpret the results from the graph.\n"
   ]
  },
  {
   "cell_type": "code",
   "execution_count": 132,
   "id": "1ff8e057",
   "metadata": {},
   "outputs": [
    {
     "data": {
      "text/plain": [
       "<AxesSubplot:xlabel='network', ylabel='duration'>"
      ]
     },
     "execution_count": 132,
     "metadata": {},
     "output_type": "execute_result"
    },
    {
     "data": {
      "image/png": "[encoded data removed]",
      "text/plain": [
       "<Figure size 640x480 with 1 Axes>"
      ]
     },
     "metadata": {},
     "output_type": "display_data"
    }
   ],
   "source": [
    "sns.boxplot(x= phone['network'], y= phone['duration'])"
   ]
  },
  {
   "cell_type": "markdown",
   "id": "79d43642",
   "metadata": {},
   "source": [
    "According to the data, on an average people communicated on the voicemail for the maximum duration while people talked on the landline for a lesser amount of time and the network on which the duration was the least is meteor."
   ]
  },
  {
   "cell_type": "markdown",
   "id": "eade0390",
   "metadata": {},
   "source": [
    "### d)\tPerform statistical tests to identify the relation between item and duration. Detailed explanation of relation between the classes is required."
   ]
  },
  {
   "cell_type": "markdown",
   "id": "5a0fdfb1",
   "metadata": {},
   "source": [
    "The null and alternate hypothesis are:\n",
    "\n",
    "* Ho: The Item and Duration are not related\n",
    "* Ha: The Item and Duration have a relation.\n",
    "\n",
    "Since we have to check relation between a category and a number, we will perform one way anova test."
   ]
  },
  {
   "cell_type": "code",
   "execution_count": 134,
   "id": "7b3b689d",
   "metadata": {},
   "outputs": [
    {
     "data": {
      "text/plain": [
       "array(['data', 'call', 'sms'], dtype=object)"
      ]
     },
     "execution_count": 134,
     "metadata": {},
     "output_type": "execute_result"
    }
   ],
   "source": [
    "phone['item'].unique()"
   ]
  },
  {
   "cell_type": "code",
   "execution_count": 135,
   "id": "19e713d0",
   "metadata": {},
   "outputs": [],
   "source": [
    "samp1= phone[phone['item']=='data']['duration']\n",
    "samp2= phone[phone['item']=='call']['duration']\n",
    "samp3= phone[phone['item']=='sms']['duration']"
   ]
  },
  {
   "cell_type": "code",
   "execution_count": 136,
   "id": "083444d8",
   "metadata": {},
   "outputs": [
    {
     "data": {
      "text/plain": [
       "F_onewayResult(statistic=1.9313964906864995, pvalue=0.1456068656611744)"
      ]
     },
     "execution_count": 136,
     "metadata": {},
     "output_type": "execute_result"
    }
   ],
   "source": [
    "stats.f_oneway(samp1, samp2, samp3)"
   ]
  },
  {
   "cell_type": "markdown",
   "id": "15340d5f",
   "metadata": {},
   "source": [
    "Since the pvalue is greater than alpha(0.05), we fail to reject the null hypothesis and conclude that the item and duration don't have a relation with each other."
   ]
  },
  {
   "cell_type": "markdown",
   "id": "0c92fd92",
   "metadata": {},
   "source": [
    "### e)\tPerform statistical tests to identify the relation between network and network_type. "
   ]
  },
  {
   "cell_type": "markdown",
   "id": "cb9b7928",
   "metadata": {},
   "source": [
    "The null and alternate hypothesis are:\n",
    "\n",
    "* Ho: The network and network type are not related/dependent.\n",
    "* Ha: The network and network type have a relation/dependent.\n",
    "\n",
    "Since we have to check relation between two categories, we will perform chisquare contingency test."
   ]
  },
  {
   "cell_type": "code",
   "execution_count": 144,
   "id": "d69bc4e0",
   "metadata": {},
   "outputs": [
    {
     "data": {
      "text/html": [
       "<div>\n",
       "<style scoped>\n",
       "    .dataframe tbody tr th:only-of-type {\n",
       "        vertical-align: middle;\n",
       "    }\n",
       "\n",
       "    .dataframe tbody tr th {\n",
       "        vertical-align: top;\n",
       "    }\n",
       "\n",
       "    .dataframe thead th {\n",
       "        text-align: right;\n",
       "    }\n",
       "</style>\n",
       "<table border=\"1\" class=\"dataframe\">\n",
       "  <thead>\n",
       "    <tr style=\"text-align: right;\">\n",
       "      <th>network_type</th>\n",
       "      <th>data</th>\n",
       "      <th>landline</th>\n",
       "      <th>mobile</th>\n",
       "      <th>voicemail</th>\n",
       "    </tr>\n",
       "    <tr>\n",
       "      <th>network</th>\n",
       "      <th></th>\n",
       "      <th></th>\n",
       "      <th></th>\n",
       "      <th></th>\n",
       "    </tr>\n",
       "  </thead>\n",
       "  <tbody>\n",
       "    <tr>\n",
       "      <th>Meteor</th>\n",
       "      <td>0</td>\n",
       "      <td>0</td>\n",
       "      <td>87</td>\n",
       "      <td>0</td>\n",
       "    </tr>\n",
       "    <tr>\n",
       "      <th>Tesco</th>\n",
       "      <td>0</td>\n",
       "      <td>0</td>\n",
       "      <td>84</td>\n",
       "      <td>0</td>\n",
       "    </tr>\n",
       "    <tr>\n",
       "      <th>Three</th>\n",
       "      <td>0</td>\n",
       "      <td>0</td>\n",
       "      <td>215</td>\n",
       "      <td>0</td>\n",
       "    </tr>\n",
       "    <tr>\n",
       "      <th>Vodafone</th>\n",
       "      <td>0</td>\n",
       "      <td>0</td>\n",
       "      <td>215</td>\n",
       "      <td>0</td>\n",
       "    </tr>\n",
       "    <tr>\n",
       "      <th>data</th>\n",
       "      <td>150</td>\n",
       "      <td>0</td>\n",
       "      <td>0</td>\n",
       "      <td>0</td>\n",
       "    </tr>\n",
       "    <tr>\n",
       "      <th>landline</th>\n",
       "      <td>0</td>\n",
       "      <td>42</td>\n",
       "      <td>0</td>\n",
       "      <td>0</td>\n",
       "    </tr>\n",
       "    <tr>\n",
       "      <th>voicemail</th>\n",
       "      <td>0</td>\n",
       "      <td>0</td>\n",
       "      <td>0</td>\n",
       "      <td>27</td>\n",
       "    </tr>\n",
       "  </tbody>\n",
       "</table>\n",
       "</div>"
      ],
      "text/plain": [
       "network_type  data  landline  mobile  voicemail\n",
       "network                                        \n",
       "Meteor           0         0      87          0\n",
       "Tesco            0         0      84          0\n",
       "Three            0         0     215          0\n",
       "Vodafone         0         0     215          0\n",
       "data           150         0       0          0\n",
       "landline         0        42       0          0\n",
       "voicemail        0         0       0         27"
      ]
     },
     "execution_count": 144,
     "metadata": {},
     "output_type": "execute_result"
    }
   ],
   "source": [
    "table= pd.crosstab(index= phone['network'], columns= phone['network_type'])\n",
    "table"
   ]
  },
  {
   "cell_type": "code",
   "execution_count": 148,
   "id": "60e203f6",
   "metadata": {},
   "outputs": [
    {
     "name": "stdout",
     "output_type": "stream",
     "text": [
      "Test statistic: 2460.0\n",
      "p-value: 0.0\n",
      "Degrees of freedom: 18\n",
      "Expected values: [[ 15.91463415   4.45609756  63.76463415   2.86463415]\n",
      " [ 15.36585366   4.30243902  61.56585366   2.76585366]\n",
      " [ 39.32926829  11.01219512 157.57926829   7.07926829]\n",
      " [ 39.32926829  11.01219512 157.57926829   7.07926829]\n",
      " [ 27.43902439   7.68292683 109.93902439   4.93902439]\n",
      " [  7.68292683   2.15121951  30.78292683   1.38292683]\n",
      " [  4.93902439   1.38292683  19.78902439   0.88902439]]\n"
     ]
    }
   ],
   "source": [
    "test_stat, pvalue, dof, expected_value= stats.chi2_contingency(observed= table, correction= False)\n",
    "\n",
    "print(\"Test statistic:\", test_stat)\n",
    "print(\"p-value:\", pvalue)\n",
    "print(\"Degrees of freedom:\", dof)\n",
    "print(\"Expected values:\", expected_value)"
   ]
  },
  {
   "cell_type": "markdown",
   "id": "11d5d9f2",
   "metadata": {},
   "source": [
    "Since the pvalue is less than alpha, we reject the null hypothesis and conclude that the network and network type are dependent on each other."
   ]
  },
  {
   "cell_type": "code",
   "execution_count": null,
   "id": "41ac5ec5",
   "metadata": {},
   "outputs": [],
   "source": []
  }
 ],
 "metadata": {
  "kernelspec": {
   "display_name": "Python 3 (ipykernel)",
   "language": "python",
   "name": "python3"
  },
  "language_info": {
   "codemirror_mode": {
    "name": "ipython",
    "version": 3
   },
   "file_extension": ".py",
   "mimetype": "text/x-python",
   "name": "python",
   "nbconvert_exporter": "python",
   "pygments_lexer": "ipython3",
   "version": "3.9.13"
  }
 },
 "nbformat": 4,
 "nbformat_minor": 5
}
